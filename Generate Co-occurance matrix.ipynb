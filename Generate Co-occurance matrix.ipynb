{
 "cells": [
  {
   "cell_type": "code",
   "execution_count": 1,
   "metadata": {},
   "outputs": [],
   "source": [
    "import itertools\n",
    "import nltk\n",
    "import numpy as np\n",
    "import pandas as pd\n",
    "\n",
    "from scipy import sparse\n",
    "from scipy.stats import uniform\n",
    "import numpy as np"
   ]
  },
  {
   "cell_type": "code",
   "execution_count": 2,
   "metadata": {},
   "outputs": [],
   "source": [
    "text_data = [['Python', 'and', 'Data Science'],\n",
    "             ['Python', 'and', 'ML'],\n",
    "             ['Python', 'and', 'R'],\n",
    "             ['ML', 'and', 'Data Science'],\n",
    "             ['R', 'and', 'ML']]"
   ]
  },
  {
   "cell_type": "code",
   "execution_count": 3,
   "metadata": {},
   "outputs": [
    {
     "data": {
      "text/plain": [
       "['R', 'and', 'ML', 'Data Science', 'Python']"
      ]
     },
     "execution_count": 3,
     "metadata": {},
     "output_type": "execute_result"
    }
   ],
   "source": [
    "## Creating a single list from multiple lists\n",
    "data = list(itertools.chain.from_iterable(text_data))\n",
    "\n",
    "#Create a vocabulary from the data. There are 10 unique words in the corpus\n",
    "vocab = list(set(data))\n",
    "vocab"
   ]
  },
  {
   "cell_type": "code",
   "execution_count": 4,
   "metadata": {},
   "outputs": [
    {
     "data": {
      "text/plain": [
       "{'R': 0, 'and': 1, 'ML': 2, 'Data Science': 3, 'Python': 4}"
      ]
     },
     "execution_count": 4,
     "metadata": {},
     "output_type": "execute_result"
    }
   ],
   "source": [
    "#Create a vocabulary index\n",
    "vocab_index = {w:i for i,w in enumerate(vocab)}\n",
    "vocab_index"
   ]
  },
  {
   "cell_type": "markdown",
   "metadata": {},
   "source": [
    "### lets create a co-occurance matrix for the frequency of bigrams"
   ]
  },
  {
   "cell_type": "code",
   "execution_count": 5,
   "metadata": {},
   "outputs": [
    {
     "data": {
      "text/plain": [
       "[('Python', 'and'),\n",
       " ('and', 'Data Science'),\n",
       " ('Data Science', 'Python'),\n",
       " ('Python', 'and'),\n",
       " ('and', 'ML'),\n",
       " ('ML', 'Python'),\n",
       " ('Python', 'and'),\n",
       " ('and', 'R'),\n",
       " ('R', 'ML'),\n",
       " ('ML', 'and'),\n",
       " ('and', 'Data Science'),\n",
       " ('Data Science', 'R'),\n",
       " ('R', 'and'),\n",
       " ('and', 'ML')]"
      ]
     },
     "execution_count": 5,
     "metadata": {},
     "output_type": "execute_result"
    }
   ],
   "source": [
    "#Create a co_occurance_matrix with size of vocab\n",
    "co_occurance_matrix = np.zeros((len(vocab), len(vocab)))\n",
    "\n",
    "#so lets create bigrams\n",
    "bigrams = list(nltk.bigrams(data))\n",
    "bigrams"
   ]
  },
  {
   "cell_type": "code",
   "execution_count": 6,
   "metadata": {},
   "outputs": [
    {
     "data": {
      "text/plain": [
       "[(('Python', 'and'), 3),\n",
       " (('and', 'Data Science'), 2),\n",
       " (('and', 'ML'), 2),\n",
       " (('Data Science', 'Python'), 1),\n",
       " (('ML', 'Python'), 1),\n",
       " (('and', 'R'), 1),\n",
       " (('R', 'ML'), 1),\n",
       " (('ML', 'and'), 1),\n",
       " (('Data Science', 'R'), 1),\n",
       " (('R', 'and'), 1)]"
      ]
     },
     "execution_count": 6,
     "metadata": {},
     "output_type": "execute_result"
    }
   ],
   "source": [
    "#calculating the frequency of the bigrams and converting it to list. It will have the form of ((w1, w2), frequency)\n",
    "bigram_freq = nltk.FreqDist(bigrams).most_common(len(bigrams))\n",
    "bigram_freq"
   ]
  },
  {
   "cell_type": "code",
   "execution_count": 7,
   "metadata": {},
   "outputs": [
    {
     "data": {
      "text/html": [
       "<div>\n",
       "<style scoped>\n",
       "    .dataframe tbody tr th:only-of-type {\n",
       "        vertical-align: middle;\n",
       "    }\n",
       "\n",
       "    .dataframe tbody tr th {\n",
       "        vertical-align: top;\n",
       "    }\n",
       "\n",
       "    .dataframe thead th {\n",
       "        text-align: right;\n",
       "    }\n",
       "</style>\n",
       "<table border=\"1\" class=\"dataframe\">\n",
       "  <thead>\n",
       "    <tr style=\"text-align: right;\">\n",
       "      <th></th>\n",
       "      <th>R</th>\n",
       "      <th>and</th>\n",
       "      <th>ML</th>\n",
       "      <th>Data Science</th>\n",
       "      <th>Python</th>\n",
       "    </tr>\n",
       "  </thead>\n",
       "  <tbody>\n",
       "    <tr>\n",
       "      <th>R</th>\n",
       "      <td>0.0</td>\n",
       "      <td>1.0</td>\n",
       "      <td>1.0</td>\n",
       "      <td>0.0</td>\n",
       "      <td>0.0</td>\n",
       "    </tr>\n",
       "    <tr>\n",
       "      <th>and</th>\n",
       "      <td>1.0</td>\n",
       "      <td>0.0</td>\n",
       "      <td>2.0</td>\n",
       "      <td>2.0</td>\n",
       "      <td>0.0</td>\n",
       "    </tr>\n",
       "    <tr>\n",
       "      <th>ML</th>\n",
       "      <td>0.0</td>\n",
       "      <td>1.0</td>\n",
       "      <td>0.0</td>\n",
       "      <td>0.0</td>\n",
       "      <td>1.0</td>\n",
       "    </tr>\n",
       "    <tr>\n",
       "      <th>Data Science</th>\n",
       "      <td>1.0</td>\n",
       "      <td>0.0</td>\n",
       "      <td>0.0</td>\n",
       "      <td>0.0</td>\n",
       "      <td>1.0</td>\n",
       "    </tr>\n",
       "    <tr>\n",
       "      <th>Python</th>\n",
       "      <td>0.0</td>\n",
       "      <td>3.0</td>\n",
       "      <td>0.0</td>\n",
       "      <td>0.0</td>\n",
       "      <td>0.0</td>\n",
       "    </tr>\n",
       "  </tbody>\n",
       "</table>\n",
       "</div>"
      ],
      "text/plain": [
       "                R  and   ML  Data Science  Python\n",
       "R             0.0  1.0  1.0           0.0     0.0\n",
       "and           1.0  0.0  2.0           2.0     0.0\n",
       "ML            0.0  1.0  0.0           0.0     1.0\n",
       "Data Science  1.0  0.0  0.0           0.0     1.0\n",
       "Python        0.0  3.0  0.0           0.0     0.0"
      ]
     },
     "execution_count": 7,
     "metadata": {},
     "output_type": "execute_result"
    }
   ],
   "source": [
    "#Iterate through the bigrams and get the index of the corresponding words and update the co-occurance-matrix with the frequency\n",
    "for bigram in bigram_freq:\n",
    "    current = bigram[0][1]\n",
    "    prev = bigram[0][0]\n",
    "    \n",
    "    freq = bigram[1]\n",
    "    pos_current = vocab_index[current]\n",
    "    pos_prev = vocab_index[prev]\n",
    "    co_occurance_matrix[pos_prev][pos_current] = freq\n",
    "#creating a dataframe with the indexes.\n",
    "#As you can see, (python, is) occured 2 times\n",
    "matrix = pd.DataFrame(co_occurance_matrix, index=vocab_index, columns=vocab_index)\n",
    "matrix"
   ]
  },
  {
   "cell_type": "markdown",
   "metadata": {},
   "source": [
    "### Lets create a co-occurance matrix for the window of size 2 (2 words before and 2 words after)"
   ]
  },
  {
   "cell_type": "code",
   "execution_count": 8,
   "metadata": {},
   "outputs": [],
   "source": [
    "co_occ_mat_1 = np.zeros((len(vocab), len(vocab)))"
   ]
  },
  {
   "cell_type": "code",
   "execution_count": 9,
   "metadata": {},
   "outputs": [
    {
     "data": {
      "text/html": [
       "<div>\n",
       "<style scoped>\n",
       "    .dataframe tbody tr th:only-of-type {\n",
       "        vertical-align: middle;\n",
       "    }\n",
       "\n",
       "    .dataframe tbody tr th {\n",
       "        vertical-align: top;\n",
       "    }\n",
       "\n",
       "    .dataframe thead th {\n",
       "        text-align: right;\n",
       "    }\n",
       "</style>\n",
       "<table border=\"1\" class=\"dataframe\">\n",
       "  <thead>\n",
       "    <tr style=\"text-align: right;\">\n",
       "      <th></th>\n",
       "      <th>R</th>\n",
       "      <th>and</th>\n",
       "      <th>ML</th>\n",
       "      <th>Data Science</th>\n",
       "      <th>Python</th>\n",
       "    </tr>\n",
       "  </thead>\n",
       "  <tbody>\n",
       "    <tr>\n",
       "      <th>R</th>\n",
       "      <td>2.0</td>\n",
       "      <td>4.0</td>\n",
       "      <td>2.0</td>\n",
       "      <td>1.0</td>\n",
       "      <td>1.0</td>\n",
       "    </tr>\n",
       "    <tr>\n",
       "      <th>and</th>\n",
       "      <td>4.0</td>\n",
       "      <td>5.0</td>\n",
       "      <td>5.0</td>\n",
       "      <td>4.0</td>\n",
       "      <td>5.0</td>\n",
       "    </tr>\n",
       "    <tr>\n",
       "      <th>ML</th>\n",
       "      <td>2.0</td>\n",
       "      <td>5.0</td>\n",
       "      <td>3.0</td>\n",
       "      <td>1.0</td>\n",
       "      <td>2.0</td>\n",
       "    </tr>\n",
       "    <tr>\n",
       "      <th>Data Science</th>\n",
       "      <td>1.0</td>\n",
       "      <td>4.0</td>\n",
       "      <td>1.0</td>\n",
       "      <td>2.0</td>\n",
       "      <td>2.0</td>\n",
       "    </tr>\n",
       "    <tr>\n",
       "      <th>Python</th>\n",
       "      <td>1.0</td>\n",
       "      <td>5.0</td>\n",
       "      <td>2.0</td>\n",
       "      <td>2.0</td>\n",
       "      <td>3.0</td>\n",
       "    </tr>\n",
       "  </tbody>\n",
       "</table>\n",
       "</div>"
      ],
      "text/plain": [
       "                R  and   ML  Data Science  Python\n",
       "R             2.0  4.0  2.0           1.0     1.0\n",
       "and           4.0  5.0  5.0           4.0     5.0\n",
       "ML            2.0  5.0  3.0           1.0     2.0\n",
       "Data Science  1.0  4.0  1.0           2.0     2.0\n",
       "Python        1.0  5.0  2.0           2.0     3.0"
      ]
     },
     "execution_count": 9,
     "metadata": {},
     "output_type": "execute_result"
    }
   ],
   "source": [
    "window_size = 2\n",
    "co_occ_mat_1 = np.zeros((len(vocab), len(vocab)))\n",
    "for i,w in enumerate(data):    \n",
    "    for j in range(max((i-window_size), 0), min(i+window_size+1, len(data))):\n",
    "        co_occ_mat_1[vocab_index[w], vocab_index[data[j]]] += 1\n",
    "    \n",
    "matrix = pd.DataFrame(co_occ_mat_1, index=vocab_index, columns=vocab_index)\n",
    "matrix"
   ]
  },
  {
   "cell_type": "code",
   "execution_count": 10,
   "metadata": {},
   "outputs": [
    {
     "data": {
      "text/plain": [
       "<5x5 sparse matrix of type '<class 'numpy.float64'>'\n",
       "\twith 25 stored elements in Compressed Sparse Row format>"
      ]
     },
     "execution_count": 10,
     "metadata": {},
     "output_type": "execute_result"
    }
   ],
   "source": [
    "#Lets convert the dense matrix to sparse matrix\n",
    "csr_matrix = sparse.csr_matrix(matrix)\n",
    "csr_matrix"
   ]
  },
  {
   "cell_type": "code",
   "execution_count": 11,
   "metadata": {},
   "outputs": [
    {
     "name": "stdout",
     "output_type": "stream",
     "text": [
      "[[2. 4. 2. 1. 1.]\n",
      " [4. 5. 5. 4. 5.]\n",
      " [2. 5. 3. 1. 2.]\n",
      " [1. 4. 1. 2. 2.]\n",
      " [1. 5. 2. 2. 3.]]\n"
     ]
    }
   ],
   "source": [
    "#you can convert the csr matrix to dense matrix using toarray()\n",
    "print(csr_matrix.toarray())"
   ]
  },
  {
   "cell_type": "markdown",
   "metadata": {},
   "source": [
    "### Lets  create a sparse matrix for co-occurance of words with a window size of 2"
   ]
  },
  {
   "cell_type": "code",
   "execution_count": 12,
   "metadata": {},
   "outputs": [
    {
     "data": {
      "text/plain": [
       "<5x5 sparse matrix of type '<class 'numpy.int32'>'\n",
       "\twith 25 stored elements in Compressed Sparse Row format>"
      ]
     },
     "execution_count": 12,
     "metadata": {},
     "output_type": "execute_result"
    }
   ],
   "source": [
    "co_occ_dict = {}\n",
    "window_size =2\n",
    "for i,w in enumerate(data):    \n",
    "    for j in range(max((i-window_size), 0), min(i+window_size+1, len(data))):\n",
    "        key  = (vocab_index[w], vocab_index[data[j]])\n",
    "        if co_occ_dict.get(key):\n",
    "            co_occ_dict[key] += 1\n",
    "        else:\n",
    "            co_occ_dict[key] = 1\n",
    "    \n",
    "keys, vals = list(zip(*co_occ_dict.items()))\n",
    "row_ind, col_ind = list(zip(*keys))\n",
    "data_csr = sparse.csr_matrix((vals, (row_ind, col_ind)))\n",
    "data_csr"
   ]
  },
  {
   "cell_type": "code",
   "execution_count": 13,
   "metadata": {},
   "outputs": [
    {
     "data": {
      "text/plain": [
       "array([[2, 4, 2, 1, 1],\n",
       "       [4, 5, 5, 4, 5],\n",
       "       [2, 5, 3, 1, 2],\n",
       "       [1, 4, 1, 2, 2],\n",
       "       [1, 5, 2, 2, 3]], dtype=int32)"
      ]
     },
     "execution_count": 13,
     "metadata": {},
     "output_type": "execute_result"
    }
   ],
   "source": [
    "#converting it to dense matrix\n",
    "data_csr.toarray()"
   ]
  },
  {
   "cell_type": "markdown",
   "metadata": {},
   "source": [
    "## Lets create a co-occurance matrix only for the context words. This will reduce the size of the matrix\n",
    "#### For our example lets take the 4 most common words from the vocabulary as context words"
   ]
  },
  {
   "cell_type": "code",
   "execution_count": 14,
   "metadata": {},
   "outputs": [
    {
     "data": {
      "text/plain": [
       "[('and', 5), ('Python', 3), ('ML', 3), ('Data Science', 2)]"
      ]
     },
     "execution_count": 14,
     "metadata": {},
     "output_type": "execute_result"
    }
   ],
   "source": [
    "word_freq = nltk.FreqDist(data).most_common(4)\n",
    "word_freq"
   ]
  },
  {
   "cell_type": "code",
   "execution_count": 15,
   "metadata": {},
   "outputs": [
    {
     "data": {
      "text/plain": [
       "{'and': 0, 'Python': 1, 'ML': 2, 'Data Science': 3}"
      ]
     },
     "execution_count": 15,
     "metadata": {},
     "output_type": "execute_result"
    }
   ],
   "source": [
    "context_words = list(zip(*word_freq))[0]\n",
    "ctx_words_index = {w:i for i,w in enumerate(context_words)}\n",
    "ctx_words_index"
   ]
  },
  {
   "cell_type": "code",
   "execution_count": 16,
   "metadata": {},
   "outputs": [],
   "source": [
    "co_occurance_matrix_2 = np.zeros((len(vocab), len(context_words)))"
   ]
  },
  {
   "cell_type": "code",
   "execution_count": 17,
   "metadata": {},
   "outputs": [
    {
     "data": {
      "text/html": [
       "<div>\n",
       "<style scoped>\n",
       "    .dataframe tbody tr th:only-of-type {\n",
       "        vertical-align: middle;\n",
       "    }\n",
       "\n",
       "    .dataframe tbody tr th {\n",
       "        vertical-align: top;\n",
       "    }\n",
       "\n",
       "    .dataframe thead th {\n",
       "        text-align: right;\n",
       "    }\n",
       "</style>\n",
       "<table border=\"1\" class=\"dataframe\">\n",
       "  <thead>\n",
       "    <tr style=\"text-align: right;\">\n",
       "      <th></th>\n",
       "      <th>and</th>\n",
       "      <th>Python</th>\n",
       "      <th>ML</th>\n",
       "      <th>Data Science</th>\n",
       "    </tr>\n",
       "  </thead>\n",
       "  <tbody>\n",
       "    <tr>\n",
       "      <th>R</th>\n",
       "      <td>1.0</td>\n",
       "      <td>0.0</td>\n",
       "      <td>1.0</td>\n",
       "      <td>0.0</td>\n",
       "    </tr>\n",
       "    <tr>\n",
       "      <th>and</th>\n",
       "      <td>0.0</td>\n",
       "      <td>0.0</td>\n",
       "      <td>2.0</td>\n",
       "      <td>2.0</td>\n",
       "    </tr>\n",
       "    <tr>\n",
       "      <th>ML</th>\n",
       "      <td>1.0</td>\n",
       "      <td>1.0</td>\n",
       "      <td>0.0</td>\n",
       "      <td>0.0</td>\n",
       "    </tr>\n",
       "    <tr>\n",
       "      <th>Data Science</th>\n",
       "      <td>0.0</td>\n",
       "      <td>1.0</td>\n",
       "      <td>0.0</td>\n",
       "      <td>0.0</td>\n",
       "    </tr>\n",
       "    <tr>\n",
       "      <th>Python</th>\n",
       "      <td>3.0</td>\n",
       "      <td>0.0</td>\n",
       "      <td>0.0</td>\n",
       "      <td>0.0</td>\n",
       "    </tr>\n",
       "  </tbody>\n",
       "</table>\n",
       "</div>"
      ],
      "text/plain": [
       "              and  Python   ML  Data Science\n",
       "R             1.0     0.0  1.0           0.0\n",
       "and           0.0     0.0  2.0           2.0\n",
       "ML            1.0     1.0  0.0           0.0\n",
       "Data Science  0.0     1.0  0.0           0.0\n",
       "Python        3.0     0.0  0.0           0.0"
      ]
     },
     "execution_count": 17,
     "metadata": {},
     "output_type": "execute_result"
    }
   ],
   "source": [
    "for bigram in bigram_freq:\n",
    "    current = bigram[0][0]\n",
    "    next_w = bigram[0][1]\n",
    "    \n",
    "    if next_w in context_words:\n",
    "        freq = bigram[1]\n",
    "        pos_current = vocab_index[current]\n",
    "        pos_ctx_w = ctx_words_index[next_w]\n",
    "        co_occurance_matrix_2[pos_current][pos_ctx_w] = freq\n",
    "#creating a dataframe with the indexes.\n",
    "matrix = pd.DataFrame(co_occurance_matrix_2, index=vocab_index, columns=ctx_words_index)\n",
    "matrix"
   ]
  },
  {
   "cell_type": "markdown",
   "metadata": {},
   "source": [
    "#### Lets define a context window of 2 to find out the co-occurances of the context words for a word"
   ]
  },
  {
   "cell_type": "code",
   "execution_count": 18,
   "metadata": {},
   "outputs": [],
   "source": [
    "co_occurance_matrix_3 = np.zeros((len(vocab), len(context_words)))"
   ]
  },
  {
   "cell_type": "code",
   "execution_count": 19,
   "metadata": {},
   "outputs": [
    {
     "data": {
      "text/plain": [
       "{'and': 0, 'Python': 1, 'ML': 2, 'Data Science': 3}"
      ]
     },
     "execution_count": 19,
     "metadata": {},
     "output_type": "execute_result"
    }
   ],
   "source": [
    "ctx_words_index"
   ]
  },
  {
   "cell_type": "code",
   "execution_count": 20,
   "metadata": {},
   "outputs": [
    {
     "data": {
      "text/html": [
       "<div>\n",
       "<style scoped>\n",
       "    .dataframe tbody tr th:only-of-type {\n",
       "        vertical-align: middle;\n",
       "    }\n",
       "\n",
       "    .dataframe tbody tr th {\n",
       "        vertical-align: top;\n",
       "    }\n",
       "\n",
       "    .dataframe thead th {\n",
       "        text-align: right;\n",
       "    }\n",
       "</style>\n",
       "<table border=\"1\" class=\"dataframe\">\n",
       "  <thead>\n",
       "    <tr style=\"text-align: right;\">\n",
       "      <th></th>\n",
       "      <th>and</th>\n",
       "      <th>Python</th>\n",
       "      <th>ML</th>\n",
       "      <th>Data Science</th>\n",
       "    </tr>\n",
       "  </thead>\n",
       "  <tbody>\n",
       "    <tr>\n",
       "      <th>R</th>\n",
       "      <td>4.0</td>\n",
       "      <td>1.0</td>\n",
       "      <td>2.0</td>\n",
       "      <td>1.0</td>\n",
       "    </tr>\n",
       "    <tr>\n",
       "      <th>and</th>\n",
       "      <td>0.0</td>\n",
       "      <td>5.0</td>\n",
       "      <td>5.0</td>\n",
       "      <td>4.0</td>\n",
       "    </tr>\n",
       "    <tr>\n",
       "      <th>ML</th>\n",
       "      <td>5.0</td>\n",
       "      <td>2.0</td>\n",
       "      <td>0.0</td>\n",
       "      <td>1.0</td>\n",
       "    </tr>\n",
       "    <tr>\n",
       "      <th>Data Science</th>\n",
       "      <td>4.0</td>\n",
       "      <td>2.0</td>\n",
       "      <td>1.0</td>\n",
       "      <td>0.0</td>\n",
       "    </tr>\n",
       "    <tr>\n",
       "      <th>Python</th>\n",
       "      <td>5.0</td>\n",
       "      <td>0.0</td>\n",
       "      <td>2.0</td>\n",
       "      <td>2.0</td>\n",
       "    </tr>\n",
       "  </tbody>\n",
       "</table>\n",
       "</div>"
      ],
      "text/plain": [
       "              and  Python   ML  Data Science\n",
       "R             4.0     1.0  2.0           1.0\n",
       "and           0.0     5.0  5.0           4.0\n",
       "ML            5.0     2.0  0.0           1.0\n",
       "Data Science  4.0     2.0  1.0           0.0\n",
       "Python        5.0     0.0  2.0           2.0"
      ]
     },
     "execution_count": 20,
     "metadata": {},
     "output_type": "execute_result"
    }
   ],
   "source": [
    "window_size = 2\n",
    "for i,w in enumerate(data):    \n",
    "    for j in range(max((i-window_size), 0), min(i+window_size+1, len(data))):\n",
    "        if i == j:\n",
    "            continue\n",
    "        if data[j] in ctx_words_index.keys():\n",
    "            co_occurance_matrix_3[vocab_index[w], ctx_words_index[data[j]]] += 1\n",
    "df = pd.DataFrame(co_occurance_matrix_3, index=vocab_index, columns=ctx_words_index)\n",
    "df"
   ]
  },
  {
   "cell_type": "markdown",
   "metadata": {},
   "source": [
    "\n",
    "### Lets create a co-occurance matrix from the data in the form of dataframe. \n",
    "https://www.kaggle.com/rtatman/co-occurrence-matrix-plot-in-python"
   ]
  },
  {
   "cell_type": "code",
   "execution_count": 21,
   "metadata": {},
   "outputs": [],
   "source": [
    "import pandas as pd # dataframes\n",
    "from io import StringIO # string to data frame\n",
    "import seaborn as sns # plotting"
   ]
  },
  {
   "cell_type": "code",
   "execution_count": 22,
   "metadata": {},
   "outputs": [],
   "source": [
    "data_tsv  = StringIO(\"\"\"city province position\n",
    "0   Massena     NY  jr\n",
    "1   Maysville   KY  pm\n",
    "2   Massena     NY  m\n",
    "3   Athens      OH  jr\n",
    "4   Hamilton    OH  sr\n",
    "5   Englewood   OH  jr\n",
    "6   Saluda      SC  sr\n",
    "7   Batesburg   SC  pm\n",
    "8   Paragould   AR  m\"\"\")\n",
    "\n",
    "df = pd.read_csv(data_tsv, delimiter = r\"\\s+\")"
   ]
  },
  {
   "cell_type": "code",
   "execution_count": 23,
   "metadata": {},
   "outputs": [
    {
     "data": {
      "text/html": [
       "<div>\n",
       "<style scoped>\n",
       "    .dataframe tbody tr th:only-of-type {\n",
       "        vertical-align: middle;\n",
       "    }\n",
       "\n",
       "    .dataframe tbody tr th {\n",
       "        vertical-align: top;\n",
       "    }\n",
       "\n",
       "    .dataframe thead th {\n",
       "        text-align: right;\n",
       "    }\n",
       "</style>\n",
       "<table border=\"1\" class=\"dataframe\">\n",
       "  <thead>\n",
       "    <tr style=\"text-align: right;\">\n",
       "      <th></th>\n",
       "      <th>city</th>\n",
       "      <th>province</th>\n",
       "      <th>position</th>\n",
       "    </tr>\n",
       "  </thead>\n",
       "  <tbody>\n",
       "    <tr>\n",
       "      <th>0</th>\n",
       "      <td>Massena</td>\n",
       "      <td>NY</td>\n",
       "      <td>jr</td>\n",
       "    </tr>\n",
       "    <tr>\n",
       "      <th>1</th>\n",
       "      <td>Maysville</td>\n",
       "      <td>KY</td>\n",
       "      <td>pm</td>\n",
       "    </tr>\n",
       "    <tr>\n",
       "      <th>2</th>\n",
       "      <td>Massena</td>\n",
       "      <td>NY</td>\n",
       "      <td>m</td>\n",
       "    </tr>\n",
       "    <tr>\n",
       "      <th>3</th>\n",
       "      <td>Athens</td>\n",
       "      <td>OH</td>\n",
       "      <td>jr</td>\n",
       "    </tr>\n",
       "    <tr>\n",
       "      <th>4</th>\n",
       "      <td>Hamilton</td>\n",
       "      <td>OH</td>\n",
       "      <td>sr</td>\n",
       "    </tr>\n",
       "    <tr>\n",
       "      <th>5</th>\n",
       "      <td>Englewood</td>\n",
       "      <td>OH</td>\n",
       "      <td>jr</td>\n",
       "    </tr>\n",
       "    <tr>\n",
       "      <th>6</th>\n",
       "      <td>Saluda</td>\n",
       "      <td>SC</td>\n",
       "      <td>sr</td>\n",
       "    </tr>\n",
       "    <tr>\n",
       "      <th>7</th>\n",
       "      <td>Batesburg</td>\n",
       "      <td>SC</td>\n",
       "      <td>pm</td>\n",
       "    </tr>\n",
       "    <tr>\n",
       "      <th>8</th>\n",
       "      <td>Paragould</td>\n",
       "      <td>AR</td>\n",
       "      <td>m</td>\n",
       "    </tr>\n",
       "  </tbody>\n",
       "</table>\n",
       "</div>"
      ],
      "text/plain": [
       "        city province position\n",
       "0    Massena       NY       jr\n",
       "1  Maysville       KY       pm\n",
       "2    Massena       NY        m\n",
       "3     Athens       OH       jr\n",
       "4   Hamilton       OH       sr\n",
       "5  Englewood       OH       jr\n",
       "6     Saluda       SC       sr\n",
       "7  Batesburg       SC       pm\n",
       "8  Paragould       AR        m"
      ]
     },
     "execution_count": 23,
     "metadata": {},
     "output_type": "execute_result"
    }
   ],
   "source": [
    "df"
   ]
  },
  {
   "cell_type": "code",
   "execution_count": 24,
   "metadata": {},
   "outputs": [
    {
     "data": {
      "text/html": [
       "<div>\n",
       "<style scoped>\n",
       "    .dataframe tbody tr th:only-of-type {\n",
       "        vertical-align: middle;\n",
       "    }\n",
       "\n",
       "    .dataframe tbody tr th {\n",
       "        vertical-align: top;\n",
       "    }\n",
       "\n",
       "    .dataframe thead th {\n",
       "        text-align: right;\n",
       "    }\n",
       "</style>\n",
       "<table border=\"1\" class=\"dataframe\">\n",
       "  <thead>\n",
       "    <tr style=\"text-align: right;\">\n",
       "      <th>position</th>\n",
       "      <th>jr</th>\n",
       "      <th>m</th>\n",
       "      <th>pm</th>\n",
       "      <th>sr</th>\n",
       "    </tr>\n",
       "    <tr>\n",
       "      <th>province</th>\n",
       "      <th></th>\n",
       "      <th></th>\n",
       "      <th></th>\n",
       "      <th></th>\n",
       "    </tr>\n",
       "  </thead>\n",
       "  <tbody>\n",
       "    <tr>\n",
       "      <th>AR</th>\n",
       "      <td>0</td>\n",
       "      <td>1</td>\n",
       "      <td>0</td>\n",
       "      <td>0</td>\n",
       "    </tr>\n",
       "    <tr>\n",
       "      <th>KY</th>\n",
       "      <td>0</td>\n",
       "      <td>0</td>\n",
       "      <td>1</td>\n",
       "      <td>0</td>\n",
       "    </tr>\n",
       "    <tr>\n",
       "      <th>NY</th>\n",
       "      <td>1</td>\n",
       "      <td>1</td>\n",
       "      <td>0</td>\n",
       "      <td>0</td>\n",
       "    </tr>\n",
       "    <tr>\n",
       "      <th>OH</th>\n",
       "      <td>2</td>\n",
       "      <td>0</td>\n",
       "      <td>0</td>\n",
       "      <td>1</td>\n",
       "    </tr>\n",
       "    <tr>\n",
       "      <th>SC</th>\n",
       "      <td>0</td>\n",
       "      <td>0</td>\n",
       "      <td>1</td>\n",
       "      <td>1</td>\n",
       "    </tr>\n",
       "  </tbody>\n",
       "</table>\n",
       "</div>"
      ],
      "text/plain": [
       "position  jr  m  pm  sr\n",
       "province               \n",
       "AR         0  1   0   0\n",
       "KY         0  0   1   0\n",
       "NY         1  1   0   0\n",
       "OH         2  0   0   1\n",
       "SC         0  0   1   1"
      ]
     },
     "execution_count": 24,
     "metadata": {},
     "output_type": "execute_result"
    }
   ],
   "source": [
    "#convert to co-occurance matrix\n",
    "co_mat = pd.crosstab(df.province, df.position)\n",
    "co_mat"
   ]
  },
  {
   "cell_type": "code",
   "execution_count": 25,
   "metadata": {},
   "outputs": [
    {
     "data": {
      "text/plain": [
       "<matplotlib.axes._subplots.AxesSubplot at 0x1fd007ea518>"
      ]
     },
     "execution_count": 25,
     "metadata": {},
     "output_type": "execute_result"
    },
    {
     "data": {
      "image/png": "[encoded data removed]",
      "text/plain": [
       "<Figure size 432x288 with 2 Axes>"
      ]
     },
     "metadata": {
      "needs_background": "light"
     },
     "output_type": "display_data"
    }
   ],
   "source": [
    "sns.heatmap(co_mat)"
   ]
  },
  {
   "cell_type": "code",
   "execution_count": null,
   "metadata": {},
   "outputs": [],
   "source": []
  }
 ],
 "metadata": {
  "kernelspec": {
   "display_name": "Python 3",
   "language": "python",
   "name": "python3"
  },
  "language_info": {
   "codemirror_mode": {
    "name": "ipython",
    "version": 3
   },
   "file_extension": ".py",
   "mimetype": "text/x-python",
   "name": "python",
   "nbconvert_exporter": "python",
   "pygments_lexer": "ipython3",
   "version": "3.7.3"
  }
 },
 "nbformat": 4,
 "nbformat_minor": 2
}
